{
 "cells": [
  {
   "cell_type": "markdown",
   "metadata": {},
   "source": [
    "<h1 align=\"center\"><font size=\"7\" face=\"arial\" color=\"#DC5A29\">Zerlaut Usage</font></h1>"
   ]
  },
  {
   "cell_type": "markdown",
   "metadata": {},
   "source": [
    "<h1><font size=\"6\" face=\"arial\" color=\"black\">Initialise</font></h1>"
   ]
  },
  {
   "cell_type": "code",
   "execution_count": null,
   "metadata": {
    "tags": []
   },
   "outputs": [],
   "source": [
    "import sys\n",
    "path_tvb_modify = '.'\n",
    "sys.path.insert(0, path_tvb_modify)"
   ]
  },
  {
   "cell_type": "code",
   "execution_count": null,
   "metadata": {
    "tags": []
   },
   "outputs": [],
   "source": [
    "%%capture\n",
    "%matplotlib widget\n",
    "\n",
    "# Import a bunch of stuff to ease command line usage\n",
    "from tvb.simulator.lab import *\n",
    "# FC \n",
    "from tvb.datatypes.time_series import TimeSeriesRegion\n",
    "from tvb.datatypes import graph\n",
    "# Phase Plane\n",
    "from tvb.simulator.plot.phase_plane_interactive import PhasePlaneInteractive\n",
    "# ICA\n",
    "import scipy.stats\n",
    "from sklearn.decomposition import FastICA\n",
    "# brain maps\n",
    "\n",
    "import numpy as np\n",
    "import time as tm\n",
    "import matplotlib.pyplot as plt        \n",
    "import matplotlib.gridspec as gridspec "
   ]
  },
  {
   "cell_type": "markdown",
   "metadata": {},
   "source": [
    "<h1><font size=\"6\" face=\"arial\" color=\"black\">Setting up the simulation</font></h1>"
   ]
  },
  {
   "cell_type": "markdown",
   "metadata": {},
   "source": [
    "- ## <font size=\"5\" face=\"arial\" color=\"black\"> Connectivity</font></h3>"
   ]
  },
  {
   "cell_type": "code",
   "execution_count": null,
   "metadata": {
    "tags": []
   },
   "outputs": [],
   "source": [
    "# Import the anatomical structural connectivity.\n",
    "TVB_con = connectivity.Connectivity().from_file()      \n",
    "nregions = len(TVB_con.region_labels)     #number of regions\n",
    "TVB_con.speed = np.array(np.inf)                    #set the conduction speed\n",
    "TVB_con.configure()\n",
    "TVB_SC = TVB_con.weights"
   ]
  },
  {
   "cell_type": "markdown",
   "metadata": {},
   "source": [
    "- ## <font size=\"5\" face=\"arial\" color=\"black\">Coupling function</font></h3>"
   ]
  },
  {
   "cell_type": "code",
   "execution_count": null,
   "metadata": {
    "tags": []
   },
   "outputs": [],
   "source": [
    "# Initialise a Coupling function.\n",
    "G = np.array(1.0)\n",
    "con_coupling = coupling.Scaling(a=G)"
   ]
  },
  {
   "cell_type": "markdown",
   "metadata": {},
   "source": [
    "- ## <font size=\"5\" face=\"arial\" color=\"black\">Integrator</font></h3>"
   ]
  },
  {
   "cell_type": "code",
   "execution_count": null,
   "metadata": {
    "tags": []
   },
   "outputs": [],
   "source": [
    "# Initialise an Integrator scheme.\n",
    "dt = 0.1               #integration steps [ms]\n",
    "\n",
    "#heunint = integrators.HeunDeterministic(dt=dt)\n",
    "\n",
    "nsigma = 1e-6         #standard deviation of the noise\n",
    "hiss = noise.Additive(nsig=np.array([nsigma, nsigma,0,0]))\n",
    "heunint = integrators.HeunStochastic(dt=dt, noise=hiss)"
   ]
  },
  {
   "cell_type": "markdown",
   "metadata": {},
   "source": [
    "- ## <font size=\"5\" face=\"arial\" color=\"black\">Monitors</font></h3>"
   ]
  },
  {
   "cell_type": "code",
   "execution_count": null,
   "metadata": {
    "tags": []
   },
   "outputs": [],
   "source": [
    "# Initialise some Monitors with period in physical time.\n",
    "mon_raw = monitors.Raw()\n",
    "mon_tavg = monitors.TemporalAverage(period=1) #1000 Hz        \n",
    "\n",
    "#Bundle them\n",
    "what_to_watch = (mon_raw, mon_tavg)"
   ]
  },
  {
   "cell_type": "markdown",
   "metadata": {},
   "source": [
    "***"
   ]
  },
  {
   "cell_type": "markdown",
   "metadata": {},
   "source": [
    "<h1><font size=\"6\" face=\"arial\" color=\"black\">1. First Order</font></h1>"
   ]
  },
  {
   "cell_type": "markdown",
   "metadata": {},
   "source": [
    "- ## <font size=\"5\" face=\"arial\" color=\"black\"> Model</font>"
   ]
  },
  {
   "cell_type": "code",
   "execution_count": null,
   "metadata": {
    "tags": []
   },
   "outputs": [],
   "source": [
    "# Initialise a Model.\n",
    "zerlaut1 = models.ZerlautAdaptationFirstOrder()\n",
    "zerlaut1"
   ]
  },
  {
   "cell_type": "markdown",
   "metadata": {},
   "source": [
    "<h1><font size=\"6\"face=\"arial\" color=\"black\">Simulate</font></h1>"
   ]
  },
  {
   "cell_type": "code",
   "execution_count": null,
   "metadata": {
    "tags": []
   },
   "outputs": [],
   "source": [
    "# Initialise the Simulator.\n",
    "sim = simulator.Simulator(model=zerlaut1,\n",
    "                          connectivity=TVB_con,\n",
    "                          conduction_speed=np.float64(TVB_con.speed),\n",
    "                          coupling=con_coupling,\n",
    "                          integrator=heunint,\n",
    "                          monitors=what_to_watch)\n",
    "sim.configure()"
   ]
  },
  {
   "cell_type": "code",
   "execution_count": null,
   "metadata": {
    "tags": []
   },
   "outputs": [],
   "source": [
    "# Perform the simulation.\n",
    "tic = tm.time()\n",
    "\n",
    "raw_data, raw_time = [], []\n",
    "tavg_data, tavg_time = [], []\n",
    "\n",
    "for raw, tavg in sim(simulation_length=10000.):   \n",
    "    if not raw is None:\n",
    "        raw_time.append(raw[0])\n",
    "        raw_data.append(raw[1])\n",
    "        \n",
    "    if not tavg is None:\n",
    "        tavg_time.append(tavg[0])                 \n",
    "        tavg_data.append(tavg[1])\n",
    "                \n",
    "'simulation required %0.3f seconds.' % (tm.time()-tic)"
   ]
  },
  {
   "cell_type": "markdown",
   "metadata": {},
   "source": [
    "<h2><font size=\"4\"face=\"arial\" color=\"black\">Visualize simulation</font></h2>"
   ]
  },
  {
   "cell_type": "code",
   "execution_count": null,
   "metadata": {
    "tags": []
   },
   "outputs": [],
   "source": [
    "# Make the lists numpy.arrays for easier use.    \n",
    "RAW = np.squeeze(np.array(raw_data))\n",
    "TAVG = np.squeeze(np.array(tavg_data))"
   ]
  },
  {
   "cell_type": "code",
   "execution_count": null,
   "metadata": {
    "tags": []
   },
   "outputs": [],
   "source": [
    "RAW/=np.max(RAW)\n",
    "TAVG/=np.max(TAVG)"
   ]
  },
  {
   "cell_type": "code",
   "execution_count": null,
   "metadata": {
    "tags": []
   },
   "outputs": [],
   "source": [
    "# Plot the raw time series \n",
    "no_regions = 10\n",
    "fig1 = plt.figure(figsize=(10,8))\n",
    "plt.plot(raw_time[:], RAW[:, :no_regions] + np.arange(0,10,1))\n",
    "plt.title('Raw Neuronal Activity', fontsize=20)\n",
    "plt.xlabel('Time [ms]', fontsize=20)\n",
    "plt.yticks(range(no_regions), TVB_con.region_labels[:no_regions], fontsize=10)\n",
    "\n",
    "# Plot the temporally averaged time series\n",
    "fig2 = plt.figure(figsize=(10,8))\n",
    "plt.plot(tavg_time[:], TAVG[:, :no_regions] + np.arange(0,10,1))\n",
    "plt.title('Temporally Averaged Neuronal Activity', fontsize=20)\n",
    "plt.xlabel('Time [ms]', fontsize=20)\n",
    "plt.yticks(range(no_regions), TVB_con.region_labels[:no_regions], fontsize=10)\n",
    "\n",
    "plt.show()"
   ]
  },
  {
   "cell_type": "markdown",
   "metadata": {},
   "source": [
    "<h2><font size=\"6\" face=\"arial\" color=\"black\">Exploring a Model</font></h2>"
   ]
  },
  {
   "cell_type": "markdown",
   "metadata": {},
   "source": [
    "- ## <font size=\"5\" face=\"arial\" color=\"black\">Create an interactive phase-plane</font></h3>"
   ]
  },
  {
   "cell_type": "code",
   "execution_count": null,
   "metadata": {
    "tags": []
   },
   "outputs": [],
   "source": [
    "# Initialise an Integrator scheme.\n",
    "dt = 1    #integration steps [ms]\n",
    "heunint = integrators.HeunDeterministic(dt=dt)"
   ]
  },
  {
   "cell_type": "code",
   "execution_count": null,
   "metadata": {
    "tags": []
   },
   "outputs": [],
   "source": [
    "# Create and lunch the phase-plane tool.\n",
    "ppi_fig = PhasePlaneInteractive(model=zerlaut1, integrator=heunint)\n",
    "ppi_fig.show()"
   ]
  },
  {
   "cell_type": "markdown",
   "metadata": {},
   "source": [
    "- ## <font size=\"5\" face=\"arial\" color=\"black\">Using a stochastic integration scheme</font></h3>"
   ]
  },
  {
   "cell_type": "code",
   "execution_count": null,
   "metadata": {
    "tags": []
   },
   "outputs": [],
   "source": [
    "# Initialise an Integrator scheme.\n",
    "dt = 1                                           #integration steps [ms]\n",
    "heunstochint = integrators.HeunStochastic(dt=dt)\n",
    "heunstochint.noise.nsig = np.array([1.e-6])                  #standard deviation of the noise "
   ]
  },
  {
   "cell_type": "code",
   "execution_count": null,
   "metadata": {
    "tags": []
   },
   "outputs": [],
   "source": [
    "ppi_fig = PhasePlaneInteractive(model=zerlaut1, integrator=heunstochint)\n",
    "ppi_fig.show()"
   ]
  },
  {
   "cell_type": "markdown",
   "metadata": {},
   "source": [
    "***"
   ]
  },
  {
   "cell_type": "markdown",
   "metadata": {},
   "source": [
    "<h1><font size=\"6\" face=\"arial\" color=\"black\">1. Second Order</font></h1>"
   ]
  },
  {
   "cell_type": "markdown",
   "metadata": {},
   "source": [
    "- ## <font size=\"5\" face=\"arial\" color=\"black\"> Model</font>"
   ]
  },
  {
   "cell_type": "code",
   "execution_count": null,
   "metadata": {
    "tags": []
   },
   "outputs": [],
   "source": [
    "# Initialise a Model.\n",
    "zerlaut2 = models.ZerlautAdaptationSecondOrder()\n",
    "zerlaut2"
   ]
  },
  {
   "cell_type": "markdown",
   "metadata": {},
   "source": [
    "<h1><font size=\"6\"face=\"arial\" color=\"black\">Simulate</font></h1>"
   ]
  },
  {
   "cell_type": "code",
   "execution_count": null,
   "metadata": {
    "tags": []
   },
   "outputs": [],
   "source": [
    "# Initialise the Simulator.\n",
    "sim = simulator.Simulator(model=zerlaut2,\n",
    "                          connectivity=TVB_con,\n",
    "                          conduction_speed=np.float64(TVB_con.speed),\n",
    "                          coupling=con_coupling,\n",
    "                          integrator=heunint,\n",
    "                          monitors=what_to_watch)\n",
    "sim.configure()"
   ]
  },
  {
   "cell_type": "code",
   "execution_count": null,
   "metadata": {
    "tags": []
   },
   "outputs": [],
   "source": [
    "# Perform the simulation.\n",
    "tic = tm.time()\n",
    "\n",
    "raw_data, raw_time = [], []\n",
    "tavg_data, tavg_time = [], []\n",
    "\n",
    "for raw, tavg in sim(simulation_length=10000.):   \n",
    "    if not raw is None:\n",
    "        raw_time.append(raw[0])\n",
    "        raw_data.append(raw[1])\n",
    "        \n",
    "    if not tavg is None:\n",
    "        tavg_time.append(tavg[0])                 \n",
    "        tavg_data.append(tavg[1])\n",
    "                \n",
    "'simulation required %0.3f seconds.' % (tm.time()-tic)"
   ]
  },
  {
   "cell_type": "markdown",
   "metadata": {},
   "source": [
    "<h2><font size=\"4\"face=\"arial\" color=\"black\">Visualize simulation</font></h2>"
   ]
  },
  {
   "cell_type": "code",
   "execution_count": null,
   "metadata": {
    "tags": []
   },
   "outputs": [],
   "source": [
    "# Make the lists numpy.arrays for easier use.    \n",
    "RAW = np.squeeze(np.array(raw_data))\n",
    "TAVG = np.squeeze(np.array(tavg_data))"
   ]
  },
  {
   "cell_type": "code",
   "execution_count": null,
   "metadata": {
    "tags": []
   },
   "outputs": [],
   "source": [
    "RAW/=np.max(RAW)\n",
    "TAVG/=np.max(TAVG)"
   ]
  },
  {
   "cell_type": "code",
   "execution_count": null,
   "metadata": {
    "tags": []
   },
   "outputs": [],
   "source": [
    "# Normalize the time series\n",
    "raw_data /= (np.max(raw_data, 0) - np.min(raw_data, 0))\n",
    "tavg_data /= (np.max(tavg_data, 0) - np.min(tavg_data, 0))"
   ]
  },
  {
   "cell_type": "code",
   "execution_count": null,
   "metadata": {
    "tags": []
   },
   "outputs": [],
   "source": [
    "# Plot the raw time series \n",
    "no_regions = 10\n",
    "fig1 = plt.figure(figsize=(10,8))\n",
    "plt.plot(raw_time[:], RAW[:, :no_regions] + np.r_[:no_regions])\n",
    "plt.title('Raw Neuronal Activity', fontsize=20)\n",
    "plt.xlabel('Time [ms]', fontsize=20)\n",
    "plt.yticks(range(no_regions), TVB_con.region_labels[:no_regions], fontsize=10)\n",
    "\n",
    "# Plot the temporally averaged time series\n",
    "fig2 = plt.figure(figsize=(10,8))\n",
    "plt.plot(tavg_time[:], TAVG[:, :no_regions] + np.r_[:no_regions])\n",
    "plt.title('Temporally Averaged Neuronal Activity', fontsize=20)\n",
    "plt.xlabel('Time [ms]', fontsize=20)\n",
    "plt.yticks(range(no_regions), TVB_con.region_labels[:no_regions], fontsize=10)\n",
    "\n",
    "plt.show()"
   ]
  },
  {
   "cell_type": "markdown",
   "metadata": {},
   "source": [
    "<h2><font size=\"6\" face=\"arial\" color=\"black\">Exploring a Model</font></h2>"
   ]
  },
  {
   "cell_type": "markdown",
   "metadata": {},
   "source": [
    "- ## <font size=\"5\" face=\"arial\" color=\"black\">Create an interactive phase-plane</font></h3>"
   ]
  },
  {
   "cell_type": "code",
   "execution_count": null,
   "metadata": {
    "tags": []
   },
   "outputs": [],
   "source": [
    "# Initialise an Integrator scheme.\n",
    "dt = 1    #integration steps [ms]\n",
    "heunint = integrators.HeunDeterministic(dt=dt)"
   ]
  },
  {
   "cell_type": "code",
   "execution_count": null,
   "metadata": {
    "tags": []
   },
   "outputs": [],
   "source": [
    "# Create and lunch the phase-plane tool.\n",
    "ppi_fig = PhasePlaneInteractive(model=zerlaut2, integrator=heunint)\n",
    "ppi_fig.show()"
   ]
  },
  {
   "cell_type": "markdown",
   "metadata": {},
   "source": [
    "- ## <font size=\"5\" face=\"arial\" color=\"black\">Using a stochastic integration scheme</font></h3>"
   ]
  },
  {
   "cell_type": "code",
   "execution_count": null,
   "metadata": {
    "tags": []
   },
   "outputs": [],
   "source": [
    "# Initialise an Integrator scheme.\n",
    "dt = 1                                           #integration steps [ms]\n",
    "heunstochint = integrators.HeunStochastic(dt=dt)\n",
    "heunstochint.noise.nsig = np.array([1.e-6])                  #standard deviation of the noise "
   ]
  },
  {
   "cell_type": "code",
   "execution_count": null,
   "metadata": {
    "tags": []
   },
   "outputs": [],
   "source": [
    "ppi_fig = PhasePlaneInteractive(model=zerlaut2, integrator=heunstochint)\n",
    "ppi_fig.show()"
   ]
  }
 ],
 "metadata": {
  "kernelspec": {
   "display_name": "Python 3 (ipykernel)",
   "language": "python",
   "name": "python3"
  },
  "language_info": {
   "codemirror_mode": {
    "name": "ipython",
    "version": 3
   },
   "file_extension": ".py",
   "mimetype": "text/x-python",
   "name": "python",
   "nbconvert_exporter": "python",
   "pygments_lexer": "ipython3",
   "version": "3.10.9"
  }
 },
 "nbformat": 4,
 "nbformat_minor": 4
}
