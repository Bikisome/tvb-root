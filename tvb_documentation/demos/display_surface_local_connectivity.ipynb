{
 "cells": [
  {
   "cell_type": "code",
   "execution_count": 1,
   "metadata": {},
   "outputs": [
    {
     "name": "stdout",
     "output_type": "stream",
     "text": [
      "WARNING  File 'hemispheres' not found in ZIP.\n"
     ]
    }
   ],
   "source": [
    "%matplotlib widget\n",
    "from tvb.simulator.plot.head_plotter_3d import HeadPlotter3D"
   ]
  },
  {
   "cell_type": "markdown",
   "metadata": {},
   "source": [
    "# Display the local connectivity kernel definining the local coupling strength for one focal point\n",
    "\n",
    "When defining stimuli on the cortical surface, it's useful to visualize the spatial pattern being implemented:\n",
    "\n",
    "Here, we'll redefine the local connectivity kernel,"
   ]
  },
  {
   "cell_type": "code",
   "execution_count": 2,
   "metadata": {},
   "outputs": [
    {
     "data": {
      "application/vnd.jupyter.widget-view+json": {
       "model_id": "3c650a14c8514f3a9e7c4834d63ef549",
       "version_major": 2,
       "version_minor": 0
      },
      "text/plain": [
       "Canvas(toolbar=Toolbar(toolitems=[('Home', 'Reset original view', 'home', 'home'), ('Back', 'Back to previous …"
      ]
     },
     "metadata": {},
     "output_type": "display_data"
    }
   ],
   "source": [
    "hp = HeadPlotter3D()\n",
    "\n",
    "# configure cortical surface\n",
    "ctx = cortex.Cortex.from_file()\n",
    "ctx.region_mapping_data.connectivity = connectivity.Connectivity.from_file()\n",
    "loc_conn = local_connectivity.LocalConnectivity(cutoff=20.0, surface=ctx.region_mapping_data.surface)\n",
    "loc_conn.equation.parameters['sigma'] = 10.0\n",
    "loc_conn.equation.parameters['amp'] = 1.0\n",
    "ctx.local_connectivity = loc_conn\n",
    "ctx.coupling_strength = numpy.array([0.0115])\n",
    "ctx.configure()\n",
    "\n",
    "# plot \n",
    "figure()\n",
    "ax = subplot(111, projection='3d')\n",
    "x, y, z = ctx.vertices.T\n",
    "ax.plot_trisurf(x, y, z, triangles=ctx.triangles, alpha=0.1, edgecolor='none')"
   ]
  }
 ],
 "metadata": {
  "kernelspec": {
   "display_name": "Python 3",
   "language": "python",
   "name": "python3"
  },
  "language_info": {
   "codemirror_mode": {
    "name": "ipython",
    "version": 3
   },
   "file_extension": ".py",
   "mimetype": "text/x-python",
   "name": "python",
   "nbconvert_exporter": "python",
   "pygments_lexer": "ipython3",
   "version": "3.7.10"
  }
 },
 "nbformat": 4,
 "nbformat_minor": 1
}
