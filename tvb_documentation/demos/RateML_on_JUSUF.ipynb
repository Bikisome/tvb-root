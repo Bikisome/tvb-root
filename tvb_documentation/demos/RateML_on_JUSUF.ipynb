{
 "cells": [
  {
   "cell_type": "markdown",
   "metadata": {},
   "source": [
    "# RateML\n",
    "\n",
    "### Using RateML to generate a CUDA model file and Pyunicore to excute parameter sweeps on HPC (JUSUF cluster)"
   ]
  },
  {
   "cell_type": "code",
   "execution_count": null,
   "metadata": {},
   "outputs": [],
   "source": [
    "!git clone https://github.com/DeLaVlag/tvb-root.git"
   ]
  },
  {
   "cell_type": "code",
   "execution_count": null,
   "metadata": {},
   "outputs": [],
   "source": [
    "# install tvb-library\n",
    "%cd tvb-root/scientific_library/\n",
    "!python setup.py install\n",
    "# install tvb-bin\n",
    "%cd ../tvb_bin\n",
    "!python setup.py install\n",
    "# install tvb-data\n",
    "! pip install tvb-data\n",
    "%cd ../../"
   ]
  },
  {
   "cell_type": "markdown",
   "metadata": {},
   "source": [
    "## Building a model\n",
    "Building rate based models in RateML, start by creating an XML model file. To understand which constructs can be used to build the model, one should take a closer look at the README file. The cell below will prints the latest README file from the repository. Every construct which can be used, is explained."
   ]
  },
  {
   "cell_type": "code",
   "execution_count": 5,
   "metadata": {},
   "outputs": [
    {
     "data": {
      "text/markdown": [
       "## Rate based model generation for Python TVB or CUDA models\n",
       "This readme describes the usage of the code generation for models defined in LEMS based XML to Cuda or Python.\n",
       "The pyLEMS framework is used and will be installed with TVB. \n",
       "XML2model.py holds the class which start the templating.\n",
       "To use RateML, create an object of the RateML class in which the arguments: the model filename, language, XML file location and model output location, are entered.\n",
       "```python\n",
       "RateML('model_filename', language=('python' | 'cuda'), 'path/to/your/XMLmodels', 'path/to/your/generatedModels')\n",
       "```\n",
       "The model filename is the name of XML file which will also be the name of the model class for Python models and the kernel name for CUDA models. \n",
       "The language (python | cuda) determines if either a python or cuda model will be generated. \n",
       "It expects a model_filename.xml to be present in 'path/to/your/XMLmodels' for either Python or CUDA model generation.\n",
       "The generated file will be placed in ''path/to/your/generatedModels'.\n",
       "The produced filename is a lower cased model_filename.c or -.py which contains a kernel called model_filename or a class named Model_filenameT.\n",
       "\n",
       "    .. moduleauthor:: Michiel. A. van der Vlag <m.van.der.vlag@fz-juelich.de>\n",
       "    .. moduleauthor:: Marmaduke Woodman <marmaduke.woodman@univ-amu.fr>\n",
       "    .. moduleauthor:: Sandra Diaz <s.diaz@fz-juelich.de>\n",
       "\n",
       "## XML template\n",
       "The XML template below can be found in /XMLmodels and can be used to start the construction of a model. This section describes each of the constructs need to define the model.\n",
       "Both CUDA and Python can be generated from the same XML model file, however the CUDA variant would need componenttypes for coupling and noise. \n",
       "The order of constructs in this figure denotes the sequences in which they need to appear in the XML file. The Pylems expression parser, which checks for mathematical correctness, is active on all the fields which hold expressions. The power symbol in the expression fields needs to be entered within curly brackets: {x^2}, because it needs to be translated to the specific power operator for each language.\n",
       "\n",
       "```xml\n",
       "<?xml version=\"1.0\" encoding=\"UTF-8\"?>\n",
       "<Lems description=\"Rate based generic template\">\n",
       "\n",
       "```\n",
       "\n",
       "### Derivatives\n",
       "To define the time derivatives of the model, a component type with the name: “derivatives”, should be created. This component type can hold other constructs which define the initialization and dynamics definition of the model. \n",
       "```xml\n",
       "    <ComponentType name=\"derivatives\">\n",
       "```\n",
       "\\\n",
       "The **Parameter** construct defines variables to be used in a parameter sweep. The name keyword specifies the name and the dimension keyword specifies the type of the parameter. Parameter is only supported by CUDA. rateML/run/__main__.py holds an example of coupling and speed exploration. In this example the coupling parameters have the range: logspace(1.6, 3.0, coupling_runtime_dimension) and speed parameters have the range logspace(1.6, 3.0, speed_runtime_dimension)\n",
       "```xml\n",
       "        <Parameter name=\"[p_name0]\" dimension='[type=float]'/>\n",
       "        <Parameter name=\"[p_name1]\" dimension='[type=float]'/>\n",
       "```\n",
       "\\\n",
       "The **DerivedParameter** construct specifies parameters which are derived during run-time of the model in dependence of the parameters used in sweeps. This construct is only supported by the CUDA models and will generate a float with the const keyword, which is initialized with the expression. Special derived parameters are “rec_speed_dt” and “nsig”. If “rec_speed_dt” is not defined the coupling will not have a temporal aspect, meaning that the delay between nodes will be set to 0. If the added noise needs to be amplified the keyword “nsig” should be used. See coupling and noise sections for more information.\n",
       "```xml\n",
       "        <DerivedParameter name=\"[name]\" expression=\"[expression]\"/>\n",
       "```\n",
       "\\\n",
       "The **Constant** construct is used to create constants of the type float. The value field represents the initial value and a description can be entered optionally in the description field. (TODO. Description bug in LEMS: The description attibute is mapped to the symbol attribute in LEMS.py. For now no description field does not translate to description field in Python generations). For the Python models a domain must be specified, this can be done in the dimension field. Either the domain in the format as listed is entered, or None is entered to exclude it. This domain is used to generate GUI slider bars and value validation in the TVB Framework. For the CUDA models, the dimension field can be omitted.\n",
       "```xml\n",
       "        <Constant name=\"[name]\" domain=\"lo=[value], hi=[value], step=[value]\" default=\"[value]\" description=\"[optional]\"/>\n",
       "```\n",
       "\\\n",
       "The **Exposures** construct specifies variables that the user wants to monitor and that are returned by the computing kernel: name is the name of the variable to be monitored, the keyword dimension defines any mathematical operation performed on a variable of interest. \n",
       "```xml\n",
       "        <Exposure name=\"[name]\" dimension=\"[Expression]\"/>\n",
       "```\n",
       "\\\n",
       "The **StateVariable** construct is used to define the state variables of the model. The state variables in a Python TVB model are initialized with a numpy.array with the values entered in the dimension field. This field can be omitted in the CUDA models, in which state variables are single variables initialized to 0. The exposure field sets the state variables' upper and lower boundaries, for both languages. These boundaries ensure that the values of state variables stay within the set boundaries and resets the state if the boundaries are exceeded.\n",
       "```xml\n",
       "        <Dynamics>\n",
       "            <StateVariable name=\"[name]\" dimension=\"[range]\" exposure=\"[lower_bound], [upper_bound]\"/>\n",
       "```\n",
       "\\\n",
       "The **DerivedVariable** construct can be used to define temporary variables which are the building blocks of the time derivatives. Any formula can be used, and the syntax is: name=value.\n",
       "```xml\n",
       "            <DerivedVariable name=\"[name]\" value=\"[expression]\" />\n",
       "```\n",
       "\\\n",
       "The **ConditionalDerivedVariable** construct can be used to create if-else constructs. Within the construct a number of Cases can be defined to indicate what action is valid when the condition is true of false. The condition field holds the condition for the action. The escape sequences '\\&lt(=);' and '\\&gt;(=)' for less- or greater then (or equal to) are used to specify the condition. The value field holds the expression of which the value will be assigned to the variable indicated with the name field. At least one case should be defined. Two cases will produce an if-else structure. There is no need to enter the ‘else’ keyword as is shown in the example, this will be produced automatically. More than two cases will result in the usage of ‘else-if’ statements.\n",
       "```xml\n",
       "            <!--if [condition]: [name] = [expression1]\n",
       "                else if [condition]: [name] = [expression2] \n",
       "                else: [expression3] -->\n",
       "            <ConditionalDerivedVariable name=\"[name]\">\n",
       "                <Case condition=\"[variable] [conditional operator] [value]\" value=\"[expression1]\"/>\n",
       "                <Case condition=\"[variable] [conditional operator] [value]\" value=\"[expression2]\"/>\n",
       "                <Case condition=\"\" value=\"[expression3]\"/>\n",
       "            </ConditionalDerivedVariable>\n",
       "```\n",
       "\\\n",
       "The **TimeDerivative** construct defines the model dynamics in terms of  derivative functions. The variable field specifies the variable on the left-hand side of the differential equation, while the value field specifies the right-hand side expression. \n",
       "```xml\n",
       "            <TimeDerivative variable=\"[name]\" value=\"[expression]\"/>\n",
       "        </Dynamics>\n",
       "    </ComponentType>\n",
       "```\n",
       "\n",
       "### Coupling\n",
       "To define **coupling functions**, which is only applicable for CUDA models, the user can create a coupling component type.\n",
       "To identify this coupling component type, the name field should include the phrase coupling. It will construct a double for loop in which for every node, every other node's state is fetched according to connection delay, multiplied by connection weight.\n",
       "The Python models have coupling functionality defined in a separate class which contains pre-defined functions for pre- and post synaptic behavior. With RateML it is not possible to define the coupling function for the Python models. For the python models, a number of hardcoded c_pop variables are defined, which can be used to implement the coupling value per population. Each of these variables define the coupling for each neuron population defined.\n",
       "```xml\n",
       "    <ComponentType name=\"coupling_[name]\">\n",
       "```\n",
       "\\\n",
       "The coupling **Parameter** construct specifies the variable that stores intermediate results from computing coupling inputs and its dimension field indicates which state variable the coupling computation should consider and which is fetched from memory. For instance, in case of the Epileptor model, six state variables are present and either one of them could (theoretically) be considered in computing the coupling. This function has been added to give the user more freedom in defining the coupling function. The dimension param indicates the nth defined statevariable of which values are fetched from memory.\n",
       "The parameter name should appear in the user defined 'pre' or 'post' coupling function, if user want temporal model aspects.\n",
       "```xml\n",
       "        <Parameter name=\"[name]\" dimension='[0-n]'/>\n",
       "```\n",
       "\\\n",
       "The coupling **DerivedParameter** construct defines the name of the variable to store the final coupling result and the value field contains a function that transforms the sums of all inputs to a specific node. This variable, 'dp_name', can be used to incorporate the coupling value in the dynamics of the model and is eventually used to 'export' the coupling value out of the for loops. This value should then be used in time derivative definition \n",
       "Syntax: [name] *= [expression].\n",
       "```xml\n",
       "        <DerivedParameter name=\"[dp_name]\" value=\"[expression]\"/>\n",
       "```\n",
       "\\\n",
       "The **DerivedVariable** construct can be used to enter a 'pre'- and 'post'-synaptic coupling function. The final result is that the pre- is multiplied with the post synaptic coupling function and again multiplied with the weights of the node. This result is assigned to 'dp_name', which is shown on line 16 of the listing below. If the derivatives component type does not have a derived parameter named 'rec_speed_dt' the coupling function will not have the delay aspect and thus does not have a temporal component. The listing below also shows the fetching of the delays and the usage of 'rec_speed_dt'. If 'rec_speed_dt' is not defined 'dij' will be set to 0. Other variables or constants defined inside or outside of this component type, can also be used to populate this function.\n",
       "```xml\n",
       "        <Dynamics>\n",
       "            <!-- Construct to define the pre and post coupling function\n",
       "                Name should always be 'pre' and 'post'\n",
       "                [dp_name] += node_weight * [pre.expression] * [post.expression] -->\n",
       "            <DerivedVariable name=\"[pre]\" value=\"[expression]\"/>\n",
       "            <DerivedVariable name=\"[post]\" value=\"[expression]\"/>\n",
       "        </Dynamics>\n",
       "    </ComponentType>\n",
       "\n",
       "    <!-- It is possible to decribe a 2nd coupling funtion, with the same as the syntax as previous. -->\n",
       "    <ComponentType name=\"coupling_function_pop2\">\n",
       "            \n",
       "        <!-- etc... -->\n",
       "    </ComponentType>\n",
       "```\n",
       "\n",
       "### Noise\n",
       "To specify **noise addition** to the model dynamics, a component type with the name 'noise' can be defined, which is only applicable for CUDA models. The CUDA models make use of the Curand library to add a random value to the calculated derivatives. As is mentioned in the derivatives section, if the derivatives component type has a derived parameter with the name 'nsig' a noise amplification of value will be used to amplify the noise. \n",
       "```xml\n",
       "    <!--Type noise for noise. Only for CUDA models. \n",
       "        Will add curand noise to state variable and amplify with constant 'nsig' if defined.\n",
       "        [state_var_name] += nsig * curand_normal(&crndst) + [time_der_var] -->\n",
       "    <ComponentType name=\"noise\"/>\n",
       "\n",
       "\n",
       "</Lems>\n",
       "```\n",
       "\n",
       "```c\n",
       "// Loop over nodes\n",
       "for (int i_node = 0; i_node < n_node; i_node++){\n",
       "    c_pop1 = 0.0f;\n",
       "    V = state((t) % nh, i_node + 0 * n_node);\n",
       "  unsigned int i_n = i_node * n_node\n",
       "     // Loop over nodes\n",
       "     for (unsigned int j_node = 0; j_node < n_node; j_node++){\n",
       "       // Get the weight of the coupling between node i and node j\n",
       "       float wij = weights[i_n + j_node];\n",
       "       if (wij == 0.0) continue;\n",
       "       // Get the delay between node i and node j\n",
       "       unsigned int dij = lengths[i_n + j_node] * rec_speed_dt;\n",
       "       // Get the state of node j which is delayed by dij\n",
       "       float V_j = state(((t - dij + nh) % nh), j_node + 0 * n_node);\n",
       "       // Sum using coupling function (constant * weight * pre * post)\n",
       "       c_pop1 += wij * c_c_a * 2 * sin(V_j - V);\n",
       "    }\n",
       "}\n",
       "// Export c_pop1 outside loop and process\n",
       "c_pop1 *= global_coupling;\n",
       "// Do derivative calculation\n",
       "...\n",
       "```\n",
       "*Listing 1. Generated CUDA code for the coupling functionality*\n",
       "\n",
       "### Numba and Python coupling\n",
       "In RateML the dynamics of the Python rate models are integrated using Numba vectorization (Lam et al., 2015). They are mapped to a generalized universal function (gufuncs) using Numba's guvectorize decorator to compile a pure Python function directly into machine code that operates over NumPy arrays, as fast as a C implementation (Numba, “Creating NumPy universal functions.”, https://numba.pydata.org/numba-doc/latest/user/vectorize.html). An example of a Numba generated guvectorize function is displayed in Listing 2. In this example the gufunc *_numba_dfun_Epileptor* accepts two n and m sized float64 arrays and 19 scalars as input and returns a n sized float64 array. The benefit of writing Numpy gufuncs with Numba's decorators, is that it automatically uses features such as reduction, accumulation and broadcasting to efficiently implement the algorithm in question.\n",
       "The Python models have coupling functionality defined in a separate class which contains pre-defined functions for pre- and post synaptic behavior. With RateML it is not possible to define the coupling function for the Python models. For these models, as is shown in listing 2, a number of hardcoded c_pop*n* variables are defined, which can be used to implement the coupling value per population. Each of these variables define the coupling for each neuron population defined.\n",
       "```python\n",
       "@guvectorize([(float64[:], float64[:], (float64 * 19), float64[:])], \n",
       "    '(n),(m)' + ',()'*19 + '->(n)', nopython=True)\n",
       "def _numba_dfun_EpileptorT(vw, coupling, a, b, c, d, r, s, x0, Iext, slope, \n",
       "    Iext2, tau, aa, bb, Kvf, Kf, Ks, tt, modification, local_coupling, dx):\n",
       "\n",
       "    c_pop1 = coupling[0]\n",
       "    c_pop2 = coupling[1]\n",
       "    c_pop3 = coupling[2]\n",
       "    c_pop4 = coupling[3]\n",
       "    ... # calculate derivatives\n",
       "    \n",
       "    return dx\n",
       "```\n",
       "*Listing 2. Generated CUDA code for the coupling functionality*\n",
       "\n",
       "## Files in ~/rateML/\n",
       "* XML2model.py   \t\t    : python script for initiating model code generation of either CUDA or Python models\n",
       "* tmpl8_cuda.py \t\t    : Mako template converting XML to CUDA\n",
       "* tmpl8_python.py \t\t    : Mako template converting XML to Python\n",
       "* /XMLmodels                : folder containing LEMS based XML model example files as well as a model template\n",
       "* /generatedModels          : resulting model folder\n",
       "* /run/                     : folder with example script to run generated model\n",
       "* /run/__main__.py          : cuda setup file\n",
       "* /run/cuda_run.py          : cuda run file using Pycuda\n",
       "\n",
       "\n",
       "## Requirements\n",
       "* Mako templating\n",
       "* Pycuda\n",
       "* pyLEMS\n",
       "\n",
       "\n",
       "## Running an example from ~/run folder\n",
       "In the folder 'tvb/rateML/run/' an example can be found on how to run the model generator and the CUDA model on a GPU. From this folder, execute \\_\\_main\\_\\_.py on a CUDA enabled machine: \n",
       "```bash \n",
       "python ./__main__.py --model [model_filename] -c [coupling dimension] -s [speed dimension] \n",
       "```\n",
       "\n",
       "The block dimensions default to 32x32 which has shown to have the best occupancy, the grid is adjusted accordingly. In the output.out a small report on the success of the simulation is printed. "
      ],
      "text/plain": [
       "<IPython.core.display.Markdown object>"
      ]
     },
     "metadata": {},
     "output_type": "display_data"
    }
   ],
   "source": [
    "from IPython.display import Markdown, display, Code\n",
    "mdfile = open(\"tvb-root/scientific_library/tvb/rateML/README.md\",\"r\")\n",
    "model = mdfile.read()\n",
    "display(Markdown(model))\n",
    "mdfile.close()"
   ]
  },
  {
   "cell_type": "markdown",
   "metadata": {},
   "source": [
    "## Generate a model\n",
    "After reading the README, one should be able to build an XML model file. Lets use the relatively small Kuramoto model as an example. \n",
    "Your model should look like similar to the Kuramoto python file and define some constants, an exposure and dynamics behavior. The dynamics for the Kuramoto consist of a state variable, a derived variable and a time derivative. Except for the derived variable, there are the construct that a RateML XML model file should contain."
   ]
  },
  {
   "cell_type": "code",
   "execution_count": 8,
   "metadata": {},
   "outputs": [
    {
     "data": {
      "text/markdown": [
       "<Lems description=\"Kuramoto Base type of any cell/population which has a (dimensionless) rate _R.\">\n",
       "\n",
       "    <ComponentType name=\"derivatives\">\n",
       "\n",
       "        <!-- Parameters will be assumed to be swept. sweep data will be matched by order of entry -->\n",
       "        <Parameter name=\"global_speed\" dimension='float'/>\n",
       "        <Parameter name=\"global_coupling\" dimension='float'/>\n",
       "\n",
       "        <DerivedParameter name=\"rec_n\" value=\"1.0f / n_node\"/>\n",
       "        <DerivedParameter name=\"rec_speed_dt\" value=\"1.0f / global_speed / (dt)\"/>\n",
       "        <DerivedParameter name=\"nsig\" value=\"sqrt(dt) * sqrt(2.0 * 1e-5)\"/>\n",
       "\n",
       "        <Constant name=\"omega\" value=\"60.0 * 2.0 * 3.1415927 / 1e3\" dimension=\"\"  \n",
       "                  description=\"sets Kuramoto oscillator base line frequency [rad/ms]\"/>\n",
       "\n",
       "        <Exposure name=\"theta\" dimension=\"sin(theta)\" />\n",
       "\n",
       "        <Dynamics>\n",
       "            <!-- Use PI to select the PI wrapper (ie Kuramoto) -->\n",
       "            <StateVariable name=\"theta\" dimension=\"0, PI * 2\"/>\n",
       "\n",
       "            <TimeDerivative variable=\"dtheta\" value=\"omega + c_pop1\"/>\n",
       "        </Dynamics>\n",
       "    </ComponentType>\n",
       "\n",
       "    <ComponentType name=\"coupling_function\">\n",
       "\n",
       "        <Parameter name=\"V_j\" dimension='0'/>\n",
       "        <DerivedParameter name=\"c_pop1\" value=\"global_coupling * rec_n\"/>\n",
       "\n",
       "        <Constant name=\"a\" value=\"1\" dimension=\"\" description=\"Rescales the connection strength.\"/>\n",
       "\n",
       "        <Dynamics>\n",
       "            <DerivedVariable name=\"pre\" value=\"sin(V_j - V)\"/>\n",
       "            <DerivedVariable name=\"post\" value=\"a\"/>\n",
       "        </Dynamics>\n",
       "    </ComponentType>\n",
       "\n",
       "    <ComponentType name=\"noise\"/>\n",
       "</Lems>\n"
      ],
      "text/plain": [
       "<IPython.core.display.Markdown object>"
      ]
     },
     "metadata": {},
     "output_type": "display_data"
    }
   ],
   "source": [
    "# Open the Kuramoto model\n",
    "model_location = \"tvb-root/scientific_library/tvb/rateML/XMLmodels/kuramoto.xml\"\n",
    "xmlfile = open(model_location,\"r\")\n",
    "model = xmlfile.read()\n",
    "display(Markdown(model))\n",
    "xmlfile.close()"
   ]
  },
  {
   "cell_type": "markdown",
   "metadata": {},
   "source": [
    "## Generating the model code\n",
    "\n",
    "We will call the templating function in order to automatically generate the model code.\n",
    "In XML2model.py the class \n",
    "```python\n",
    "RateML('model_filename', language=('python' | 'cuda'), 'path/to/your/XMLmodels', 'path/to/your/generatedModels')\n",
    "``` \n",
    "will start the code generation."
   ]
  },
  {
   "cell_type": "code",
   "execution_count": 8,
   "metadata": {},
   "outputs": [
    {
     "name": "stdout",
     "output_type": "stream",
     "text": [
      "2020-11-19 16:28:56,589 - INFO - tvb.rateML.XML2model - True validation of tvb-root/scientific_library/tvb/rateML/XMLmodels/kuramoto.xml against https://raw.githubusercontent.com/DeLaVlag/tvb-root/xsdvalidation/scientific_library/tvb/rateML/rML_v0.xsd\n"
     ]
    },
    {
     "data": {
      "text/plain": [
       "<tvb.rateML.XML2model.RateML at 0x7f3daf26f898>"
      ]
     },
     "execution_count": 8,
     "metadata": {},
     "output_type": "execute_result"
    }
   ],
   "source": [
    "from tvb.rateML.XML2model import RateML\n",
    "# Start generation\n",
    "\n",
    "# some preexisting examples:\n",
    "# model_filename = 'montbrio'\n",
    "# model_filename = 'oscillator'\n",
    "# model_filename = 'kuramoto'\n",
    "# model_filename = 'rwongwang'\n",
    "# model_filename = 'epileptor'\n",
    "model_filename = \"kuramoto\"\n",
    "language = \"cuda\"\n",
    "XMLin = \"tvb-root/scientific_library/tvb/rateML/XMLmodels\"\n",
    "GenModOut = \"tvb-root/scientific_library/tvb/rateML/generatedModels\"\n",
    "RateML(model_filename, language, XMLin, GenModOut)"
   ]
  },
  {
   "cell_type": "code",
   "execution_count": 41,
   "metadata": {},
   "outputs": [],
   "source": [
    "# Open the generated python Kuramoto model\n",
    "model_location = \"tvb-root/scientific_library/tvb/rateML/generatedModels/kuramoto.c\"\n",
    "genModFile = open(model_location,\"r\")\n",
    "model = genModFile.read()\n",
    "display(Code(model, language='c'))\n",
    "# display(Markdown(model))\n",
    "xmlfile.close()"
   ]
  },
  {
   "cell_type": "markdown",
   "metadata": {},
   "source": [
    "## Simulating the result\n",
    "If the model displays all its features to your whishes, it is time to take her for a spin on a GPU on the JUSUF cluster using PyUnicore. This will only work if you have an LDAP account and you are registered in the PyUnicore database. If you dont have access any other CUDA enabled GPU, will run your generated model."
   ]
  },
  {
   "cell_type": "markdown",
   "metadata": {},
   "source": [
    "### Setup PyUnicore"
   ]
  },
  {
   "cell_type": "code",
   "execution_count": 9,
   "metadata": {},
   "outputs": [
    {
     "name": "stdout",
     "output_type": "stream",
     "text": [
      "Requirement already up-to-date: pyunicore in /opt/app-root/lib/python3.6/site-packages (0.9.1)\n",
      "Requirement already satisfied, skipping upgrade: requests>=2.5 in /opt/app-root/lib/python3.6/site-packages (from pyunicore) (2.23.0)\n",
      "Requirement already satisfied, skipping upgrade: PyJWT>=1.7 in /opt/app-root/lib/python3.6/site-packages (from pyunicore) (1.7.1)\n",
      "Requirement already satisfied, skipping upgrade: urllib3!=1.25.0,!=1.25.1,<1.26,>=1.21.1 in /opt/app-root/lib/python3.6/site-packages (from requests>=2.5->pyunicore) (1.25.8)\n",
      "Requirement already satisfied, skipping upgrade: certifi>=2017.4.17 in /opt/app-root/lib/python3.6/site-packages (from requests>=2.5->pyunicore) (2019.11.28)\n",
      "Requirement already satisfied, skipping upgrade: chardet<4,>=3.0.2 in /opt/app-root/lib/python3.6/site-packages (from requests>=2.5->pyunicore) (3.0.4)\n",
      "Requirement already satisfied, skipping upgrade: idna<3,>=2.5 in /opt/app-root/lib/python3.6/site-packages (from requests>=2.5->pyunicore) (2.9)\n",
      "\u001b[33mWARNING: You are using pip version 20.0.2; however, version 20.2.4 is available.\n",
      "You should consider upgrading via the '/opt/app-root/bin/python3 -m pip install --upgrade pip' command.\u001b[0m\n"
     ]
    }
   ],
   "source": [
    "!pip install pyunicore --upgrade\n",
    "import pyunicore.client as unicore_client\n",
    "import json\n",
    "import os\n",
    "token = clb_oauth.get_token()\n",
    "tr = unicore_client.Transport(token)\n",
    "r = unicore_client.Registry(tr, unicore_client._HBP_REGISTRY_URL)\n",
    "# r.site_urls\n",
    "HPC_LOC = \"https://zam2125.zam.kfa-juelich.de:9112/JUSUF/rest/core\"\n",
    "site = unicore_client.Client(transport=tr,site_url=HPC_LOC)"
   ]
  },
  {
   "cell_type": "markdown",
   "metadata": {},
   "source": [
    "### Transfer model\n",
    "Transfer the generated model file to JUSUF."
   ]
  },
  {
   "cell_type": "code",
   "execution_count": 44,
   "metadata": {},
   "outputs": [],
   "source": [
    "base_url = \"https://zam2125.zam.kfa-juelich.de:9112/JUSUF/rest/core/storages/PROJECT/\"\n",
    "source_location = \"drive/Shared with groups/RateML TVB/tvb-root/scientific_library/tvb/rateML/generatedModels/\" + model_filename + \".c\"\n",
    "source_path = os.path.join(os.environ['HOME'], source_location)\n",
    "\n",
    "storage = unicore_client.Storage(tr, base_url)\n",
    "storage_location = \"wikicollab/RateML/\" + model_filename + \".c\"\n",
    "storage.upload(source_path, destination = storage_location)"
   ]
  },
  {
   "cell_type": "markdown",
   "metadata": {},
   "source": [
    "### Job setup"
   ]
  },
  {
   "cell_type": "code",
   "execution_count": 10,
   "metadata": {},
   "outputs": [],
   "source": [
    "my_job = {}\n",
    "\n",
    "# executable / application\n",
    "# arguments for runthingsJusuf are: backend modelname couplings speeds\n",
    "my_job['Executable'] = \"source /p/project/cslns/wikicollab/RateML/activate; \\\n",
    "cd /p/project/cslns/wikicollab/RateML/; \\\n",
    "./runthingsJusuf \" + model_filename + \" 32 32;\"\n",
    "\n",
    "# environment vars\n",
    "# run this on login node, not in batch system\n",
    "my_job['RunOnLoginNode'] = \"true\"\n",
    "\n",
    "my_job['Job type'] = \"interactive\"\n",
    "\n",
    "# data stage in - TBD\n",
    "my_job['Imports'] = []\n",
    "\n",
    "# data stage out - TBD\n",
    "my_job['Exports'] = []\n",
    "\n",
    "# Resources - TBD\n",
    "my_job['Resources'] = {}"
   ]
  },
  {
   "cell_type": "markdown",
   "metadata": {},
   "source": [
    "### Submit Job to JUSUF "
   ]
  },
  {
   "cell_type": "code",
   "execution_count": 11,
   "metadata": {},
   "outputs": [],
   "source": [
    "job = site.new_job(job_description=my_job)"
   ]
  },
  {
   "cell_type": "markdown",
   "metadata": {},
   "source": [
    "### Info about JOB"
   ]
  },
  {
   "cell_type": "code",
   "execution_count": 12,
   "metadata": {},
   "outputs": [
    {
     "name": "stdout",
     "output_type": "stream",
     "text": [
      "Job is running\n",
      "Job is finished\n"
     ]
    }
   ],
   "source": [
    "if(job.is_running()):\n",
    "    print('Job is running')\n",
    "\n",
    "job.poll()\n",
    "print('Job is finished')"
   ]
  },
  {
   "cell_type": "markdown",
   "metadata": {},
   "source": [
    "### Fetch results\n",
    "Copy the output log from JUSUF to Collab"
   ]
  },
  {
   "cell_type": "code",
   "execution_count": 50,
   "metadata": {},
   "outputs": [
    {
     "name": "stdout",
     "output_type": "stream",
     "text": [
      "WARNING  File 'cortical' not found in ZIP.\n",
      "WARNING  File 'hemispheres' not found in ZIP.\n",
      "WARNING  File 'areas' not found in ZIP.\n"
     ]
    }
   ],
   "source": [
    "remote = storage.stat(\"wikicollab/RateML/output.out\")\n",
    "remote.download(\"output.out\")\n",
    "\n",
    "with open(\"output.out\", \"r\") as f:\n",
    "    for line in f:\n",
    "        print (line.rstrip())"
   ]
  },
  {
   "cell_type": "markdown",
   "metadata": {},
   "source": [
    "Copy the error log from JUSUF to Collab"
   ]
  },
  {
   "cell_type": "code",
   "execution_count": 51,
   "metadata": {},
   "outputs": [
    {
     "name": "stdout",
     "output_type": "stream",
     "text": [
      "Traceback (most recent call last):\n",
      "  File \"./__main__.py\", line 226, in <module>\n",
      "    example.startsim()\n",
      "  File \"./__main__.py\", line 202, in startsim\n",
      "    tavg0 = self.start_cuda(logger)\n",
      "  File \"./__main__.py\", line 134, in start_cuda\n",
      "    self.n_inner_steps, self.buf_len, self.states, self.dt, self.min_speed)\n",
      "  File \"/p/project/cslns/wikicollab/RateML/cuda_run.py\", line 97, in run_simulation\n",
      "    nh=buf_len,\n",
      "  File \"/p/project/cslns/wikicollab/RateML/cuda_run.py\", line 45, in make_kernel\n",
      "    step_fn = network_module.get_function(mod_func)\n",
      "  File \"/p/home/jusers/vandervlag1/jusuf/.local/lib/python3.6/site-packages/pycuda/compiler.py\", line 278, in get_function\n",
      "    return self.module.get_function(name)\n",
      "pycuda._driver.LogicError: cuModuleGetFunction failed: named symbol not found\n",
      "srun: error: jsfc019: task 0: Exited with exit code 1\n"
     ]
    }
   ],
   "source": [
    "remote = storage.stat(\"wikicollab/RateML/error.er\")\n",
    "remote.download(\"error.er\")\n",
    "\n",
    "with open(\"error.er\", \"r\") as f:\n",
    "    for line in f:\n",
    "        print (line.rstrip())"
   ]
  }
 ],
 "metadata": {
  "kernelspec": {
   "display_name": "Python 3",
   "language": "python",
   "name": "python3"
  },
  "language_info": {
   "codemirror_mode": {
    "name": "ipython",
    "version": 3
   },
   "file_extension": ".py",
   "mimetype": "text/x-python",
   "name": "python",
   "nbconvert_exporter": "python",
   "pygments_lexer": "ipython3",
   "version": "3.6.9"
  }
 },
 "nbformat": 4,
 "nbformat_minor": 4
}
