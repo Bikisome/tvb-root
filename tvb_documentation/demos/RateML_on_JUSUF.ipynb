{
 "cells": [
  {
   "cell_type": "markdown",
   "metadata": {},
   "source": [
    "# Using Pyunicore to submit an xml file to, render it and excute parameter sweeps on HPC (JUSUF)"
   ]
  },
  {
   "cell_type": "code",
   "execution_count": 1,
   "metadata": {},
   "outputs": [
    {
     "name": "stdout",
     "output_type": "stream",
     "text": [
      "Collecting pyunicore\n",
      "  Downloading pyunicore-0.8.2.tar.gz (27 kB)\n",
      "Requirement already satisfied, skipping upgrade: PyJWT>=1.7 in /opt/app-root/lib/python3.6/site-packages (from pyunicore) (1.7.1)\n",
      "Requirement already satisfied, skipping upgrade: requests>=2.5 in /opt/app-root/lib/python3.6/site-packages (from pyunicore) (2.23.0)\n",
      "Requirement already satisfied, skipping upgrade: chardet<4,>=3.0.2 in /opt/app-root/lib/python3.6/site-packages (from requests>=2.5->pyunicore) (3.0.4)\n",
      "Requirement already satisfied, skipping upgrade: urllib3!=1.25.0,!=1.25.1,<1.26,>=1.21.1 in /opt/app-root/lib/python3.6/site-packages (from requests>=2.5->pyunicore) (1.25.8)\n",
      "Requirement already satisfied, skipping upgrade: idna<3,>=2.5 in /opt/app-root/lib/python3.6/site-packages (from requests>=2.5->pyunicore) (2.9)\n",
      "Requirement already satisfied, skipping upgrade: certifi>=2017.4.17 in /opt/app-root/lib/python3.6/site-packages (from requests>=2.5->pyunicore) (2019.11.28)\n",
      "Building wheels for collected packages: pyunicore\n",
      "  Building wheel for pyunicore (setup.py) ... \u001b[?25ldone\n",
      "\u001b[?25h  Created wheel for pyunicore: filename=pyunicore-0.8.2-py3-none-any.whl size=12948 sha256=e9d8458281c18fe10c90df552e48c876b9c00c9d5559b48d8ba53bedeb40490f\n",
      "  Stored in directory: /tmp/pip-ephem-wheel-cache-emb_1xbx/wheels/c2/cd/2e/b619a836c33d7eb93fdd32cf6971de221715c6a518ba9dd736\n",
      "Successfully built pyunicore\n",
      "Installing collected packages: pyunicore\n",
      "  Attempting uninstall: pyunicore\n",
      "    Found existing installation: pyunicore 0.5.7\n",
      "    Uninstalling pyunicore-0.5.7:\n",
      "      Successfully uninstalled pyunicore-0.5.7\n",
      "Successfully installed pyunicore-0.8.2\n",
      "\u001b[33mWARNING: You are using pip version 20.0.2; however, version 20.2.4 is available.\n",
      "You should consider upgrading via the '/opt/app-root/bin/python3 -m pip install --upgrade pip' command.\u001b[0m\n"
     ]
    },
    {
     "data": {
      "text/plain": [
       "{'RWTH': 'https://unicore.hpc.itc.rwth-aachen.de:8080/RWTH/rest/core',\n",
       " 'FZJ_JURECA': 'https://zam2125.zam.kfa-juelich.de:9112/FZJ_JURECA/rest/core',\n",
       " 'JUWELS': 'https://zam2125.zam.kfa-juelich.de:9112/JUWELS/rest/core',\n",
       " 'UNICORE-TEST': 'https://catto.cscs.ch:8080/UNICORE-TEST/rest/core',\n",
       " 'DAINT-CSCS': 'https://brissago.cscs.ch:8080/DAINT-CSCS/rest/core',\n",
       " 'irene': 'https://hbp-unicore.ccc.cea.fr/irene/rest/core',\n",
       " 'CINECA-MARCONI': 'https://grid.hpc.cineca.it:9111/CINECA-MARCONI/rest/core',\n",
       " 'CINECA-GALILEO': 'https://grid.hpc.cineca.it:9111/CINECA-GALILEO/rest/core',\n",
       " 'JUSUF': 'https://zam2125.zam.kfa-juelich.de:9112/JUSUF/rest/core',\n",
       " 'BSC-MareNostrum': 'https://unicore-hbp.bsc.es:8080/BSC-MareNostrum/rest/core'}"
      ]
     },
     "execution_count": 1,
     "metadata": {},
     "output_type": "execute_result"
    }
   ],
   "source": [
    "!pip install pyunicore --upgrade\n",
    "import pyunicore.client as unicore_client\n",
    "import json\n",
    "import os\n",
    "token = clb_oauth.get_token()\n",
    "tr = unicore_client.Transport(token)\n",
    "r = unicore_client.Registry(tr, unicore_client._HBP_REGISTRY_URL)\n",
    "r.site_urls"
   ]
  },
  {
   "cell_type": "markdown",
   "metadata": {},
   "source": [
    "### Print the XML file"
   ]
  },
  {
   "cell_type": "code",
   "execution_count": 2,
   "metadata": {},
   "outputs": [
    {
     "name": "stdout",
     "output_type": "stream",
     "text": [
      "<Lems>\n",
      "\n",
      "    <ComponentType name=\"Kuramoto\"\n",
      "                   description=\"Base type of any cell/population which has a (dimensionless) rate _R.\"\n",
      "                   value=\"none\">\n",
      "\n",
      "        <Constant name=\"omega\" domain=\"\" default=\"60.0 * 2.0 * M_PI_F / 1e3\" description=\"sets the base line frequency for the Kuramoto oscillator in [rad/ms]\"/>\n",
      "\n",
      "        <!-- Parameters will be assumed to be swept. sweep data will be matched by order of entry -->\n",
      "        <Parameter name=\"global_speed\" dimension='float'/>\n",
      "        <Parameter name=\"global_coupling\" dimension='float'/>\n",
      "\n",
      "        <DerivedParameter name=\"rec_n\" expression=\"1.0f / n_node\"/>\n",
      "        <DerivedParameter name=\"rec_speed_dt\" expression=\"1.0f / global_speed / (dt)\"/>\n",
      "        <DerivedParameter name=\"nsig\" expression=\"sqrt(dt) * sqrt(2.0 * 1e-5)\"/>\n",
      "\n",
      "        <Exposure name=\"V\" default=\"\" choices=\"sin(V)\"/>\n",
      "\n",
      "        <Dynamics>\n",
      "            <!-- Use PI to select the PI wrapper (ie Kuramoto) -->\n",
      "            <StateVariable name=\"V\" default=\"-2, 1\" boundaries=\"PI\"/>\n",
      "\n",
      "            <TimeDerivative name=\"V\" expression=\"omega + c_0\"/>\n",
      "        </Dynamics>\n",
      "\n",
      "    </ComponentType>\n",
      "\n",
      "    <ComponentType name=\"coupling_function\">\n",
      "\n",
      "        <Constant name=\"a\" dimension=\"\" default=\"1\" description=\"Rescales the connection strength.\"/>\n",
      "\n",
      "<!--        variables for pre synaptic function-->\n",
      "        <Parameter name=\"V_j\" dimension='0'/>\n",
      "\n",
      "<!--        variables for post synaptic function-->\n",
      "<!--        <Requirement name=\"wij\" dimension=''/>-->\n",
      "        <Dynamics>\n",
      "            <DerivedVariable name=\"pre\" expression=\"sin(V_j - V)\" description = \"pre synaptic function for coupling activity\"/>\n",
      "            <DerivedVariable name=\"post\" expression=\"a\" description = \"post synaptic function for coupling activity\"/>\n",
      "        </Dynamics>\n",
      "\n",
      "        <!-- Handle local coupling result, full expression is c_0 *= 'value'. Name option is hardcoded -->\n",
      "        <DerivedParameter name=\"c_0\" expression=\"global_coupling * rec_n\"/>\n",
      "\n",
      "    </ComponentType>\n",
      "\n",
      "    <!-- If noise needs to be present, just specify the component type. Detail might be added later -->\n",
      "    <ComponentType name=\"noise\" description=\"on\">\n",
      "    </ComponentType>\n",
      "\n",
      "\n",
      "</Lems>\n"
     ]
    }
   ],
   "source": [
    "with open(\"kuramoto_CUDA.xml\", \"r\") as f:\n",
    "    #print(f.readlines())\n",
    "    for line in f:\n",
    "        print (line.rstrip())"
   ]
  },
  {
   "cell_type": "markdown",
   "metadata": {},
   "source": [
    "### Transfer to HPC\n",
    "Transfer the XML model file to HPC"
   ]
  },
  {
   "cell_type": "code",
   "execution_count": 5,
   "metadata": {},
   "outputs": [],
   "source": [
    "base_url = \"https://zam2125.zam.kfa-juelich.de:9112/JUSUF/rest/core/storages/PROJECT/\"\n",
    "source_path = os.path.join(os.environ['HOME'], \"drive/My Libraries/multiscaleteam/Hackathon Sept20/kuramoto_CUDA.xml\")\n",
    "\n",
    "# sites = unicore_client.get_sites(tr)\n",
    "# client = unicore_client.Client(tr, \"https://zam2125.zam.kfa-juelich.de:9112/JUSUF/rest/core/\")\n",
    "# for p in client.get_storages():\n",
    "#     print (p)\n",
    "\n",
    "storage = unicore_client.Storage(tr, base_url)\n",
    "# print(storage.listdir(path))\n",
    "storage.upload(source_path, destination = \"vandervlag1/cuda_only/tvb-hpc/dsl/dsl_cuda/XMLmodels/Kuramoto.xml\")"
   ]
  },
  {
   "cell_type": "markdown",
   "metadata": {},
   "source": [
    "### Job setup"
   ]
  },
  {
   "cell_type": "code",
   "execution_count": 60,
   "metadata": {},
   "outputs": [],
   "source": [
    "my_job = {}\n",
    "\n",
    "# executable / application\n",
    "# arguments for runthingsJusuf are: backend modelname couplings speeds\n",
    "my_job['Executable'] = \"source /p/project/cslns/vandervlag1/cuda_only/tvb-hpc/activate; \\\n",
    "cd /p/project/cslns/vandervlag1/cuda_only/tvb-hpc/dsl/dsl_cuda/example/; \\\n",
    "./runthingsJusuf cuda Kuramoto 120 120;\"\n",
    "\n",
    "# environment vars\n",
    "# run this on login node, not in batch system\n",
    "my_job['RunOnLoginNode'] = \"true\"\n",
    "\n",
    "my_job['Job type'] = \"interactive\"\n",
    "\n",
    "# data stage in - TBD\n",
    "my_job['Imports'] = []\n",
    "\n",
    "# data stage out - TBD\n",
    "my_job['Exports'] = []\n",
    "\n",
    "# Resources - TBD\n",
    "my_job['Resources'] = {}"
   ]
  },
  {
   "cell_type": "code",
   "execution_count": 61,
   "metadata": {},
   "outputs": [],
   "source": [
    "#tr = unicore_client.Transport(token)\n",
    "HPC_LOC = \"https://zam2125.zam.kfa-juelich.de:9112/JUSUF/rest/core\"\n",
    "# HPC_LOC = \"https://zam2125.zam.kfa-juelich.de:9112/JUWELS/rest/core\"\n",
    "site = unicore_client.Client(transport=tr,site_url=HPC_LOC)\n",
    "#print(json.dumps(site.properties, indent=1))"
   ]
  },
  {
   "cell_type": "markdown",
   "metadata": {},
   "source": [
    "### Submit Job to JUSUF "
   ]
  },
  {
   "cell_type": "code",
   "execution_count": 66,
   "metadata": {},
   "outputs": [],
   "source": [
    "job = site.new_job(job_description=my_job)"
   ]
  },
  {
   "cell_type": "markdown",
   "metadata": {},
   "source": [
    "### Info about JOB"
   ]
  },
  {
   "cell_type": "code",
   "execution_count": 68,
   "metadata": {},
   "outputs": [
    {
     "name": "stdout",
     "output_type": "stream",
     "text": [
      "Job is finished\n"
     ]
    }
   ],
   "source": [
    "if(job.is_running()):\n",
    "    print('Job is running')\n",
    "\n",
    "job.poll()\n",
    "print('Job is finished')"
   ]
  },
  {
   "cell_type": "markdown",
   "metadata": {},
   "source": [
    "### Fetch results\n",
    "Copy the output log from JUSUF to Collab"
   ]
  },
  {
   "cell_type": "code",
   "execution_count": null,
   "metadata": {},
   "outputs": [],
   "source": [
    "remote = storage.stat(\"vandervlag1/cuda_only/tvb-hpc/dsl/dsl_cuda/example/output.out\")\n",
    "remote.download(\"output.out\")\n",
    "\n",
    "with open(\"output.out\", \"r\") as f:\n",
    "    for line in f:\n",
    "        print (line.rstrip())"
   ]
  },
  {
   "cell_type": "markdown",
   "metadata": {},
   "source": [
    "Get .er log"
   ]
  },
  {
   "cell_type": "code",
   "execution_count": 342,
   "metadata": {},
   "outputs": [],
   "source": [
    "remote = storage.stat(\"vandervlag1/cuda_only/tvb-hpc/dsl/dsl_cuda/example/error.er\")\n",
    "remote.download(\"error.er\")\n",
    "\n",
    "with open(\"error.er\", \"r\") as f:\n",
    "    for line in f:\n",
    "        print (line.rstrip())"
   ]
  }
 ],
 "metadata": {
  "kernelspec": {
   "display_name": "Python 3",
   "language": "python",
   "name": "python3"
  },
  "language_info": {
   "codemirror_mode": {
    "name": "ipython",
    "version": 3
   },
   "file_extension": ".py",
   "mimetype": "text/x-python",
   "name": "python",
   "nbconvert_exporter": "python",
   "pygments_lexer": "ipython3",
   "version": "3.6.9"
  }
 },
 "nbformat": 4,
 "nbformat_minor": 4
}
